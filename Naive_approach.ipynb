{
  "nbformat": 4,
  "nbformat_minor": 0,
  "metadata": {
    "colab": {
      "provenance": []
    },
    "kernelspec": {
      "name": "python3",
      "display_name": "Python 3"
    },
    "language_info": {
      "name": "python"
    }
  },
  "cells": [
    {
      "cell_type": "markdown",
      "source": [
        "### Stastically motivated model\n",
        "This is an idea I had for a model which is based purely on two easily observable facts\n",
        "\n",
        "1. The BPs are clustered around -28 NTs from the acceptor site\n",
        "2. The BPs are mostly As\n",
        "\n",
        "By measuring the exact distributions of both of these we can come up with a rough probability that any given NT is a BP. We then just feed these probabilities to SKlearn with some labels to calculate the precision-recall curve and average precision.\n",
        "\n",
        "Precision-recall curves can be used to find the decision boundary which maximizes F1 and we can calculate both F1 and PER SEQUENCE accuracy."
      ],
      "metadata": {
        "id": "ULJfDWZsUSKe"
      }
    },
    {
      "cell_type": "code",
      "execution_count": 56,
      "metadata": {
        "id": "mkYUWBPKTuQD"
      },
      "outputs": [],
      "source": [
        "import pandas as pd\n",
        "import matplotlib.pyplot as plt\n",
        "import numpy as np\n",
        "import os"
      ]
    },
    {
      "cell_type": "markdown",
      "source": [
        "### Load data and split it into train and test (has to be split the same way as for ML tests)"
      ],
      "metadata": {
        "id": "v38axN0xVl2i"
      }
    },
    {
      "cell_type": "code",
      "source": [
        "from google.colab import drive\n",
        "drive.mount('/content/drive')"
      ],
      "metadata": {
        "colab": {
          "base_uri": "https://localhost:8080/"
        },
        "id": "oZyxVUbNTzKK",
        "outputId": "9928fab4-10b4-488b-e976-098be3a78364"
      },
      "execution_count": 57,
      "outputs": [
        {
          "output_type": "stream",
          "name": "stdout",
          "text": [
            "Drive already mounted at /content/drive; to attempt to forcibly remount, call drive.mount(\"/content/drive\", force_remount=True).\n"
          ]
        }
      ]
    },
    {
      "cell_type": "code",
      "source": [
        "%cd \"/content/drive/MyDrive/Machine_Learning_(CS-433)/Project_2\""
      ],
      "metadata": {
        "colab": {
          "base_uri": "https://localhost:8080/"
        },
        "id": "_7Xlf5DiT1YI",
        "outputId": "dacfe937-2dbd-4068-df6e-6fdbd2736fc1"
      },
      "execution_count": 58,
      "outputs": [
        {
          "output_type": "stream",
          "name": "stdout",
          "text": [
            "/content/drive/MyDrive/Machine_Learning_(CS-433)/Project_2\n"
          ]
        }
      ]
    },
    {
      "cell_type": "code",
      "source": [
        "#Assume a folder named dataset exists in the same directory as the code repository\n",
        "data_path = 'data'\n",
        "\n",
        "#assume dataset itself is just named dataset.txt\n",
        "df = pd.read_csv(os.path.join(data_path, \"dataset.txt\"), delimiter = \"\\t\")\n",
        "\n",
        "df['BP_POS_WITHIN_STRAND'] = df['IVS_SIZE'] + df['BP_ACC_DIST']"
      ],
      "metadata": {
        "id": "mVQkXVfST28d"
      },
      "execution_count": 59,
      "outputs": []
    },
    {
      "cell_type": "code",
      "source": [
        "#Import useful functions from repository\n",
        "from BP_LM.data_preprocessing import split_train_test_on_chr,  extract_intron_seq_and_labels, truncate_strands"
      ],
      "metadata": {
        "id": "Tf3BW5EnZNpZ"
      },
      "execution_count": 60,
      "outputs": []
    },
    {
      "cell_type": "code",
      "source": [
        "df.columns.values"
      ],
      "metadata": {
        "colab": {
          "base_uri": "https://localhost:8080/"
        },
        "id": "xwvmfdCnT4lK",
        "outputId": "0cb5208a-f72b-4be7-8170-15d74ef28fc2"
      },
      "execution_count": 61,
      "outputs": [
        {
          "output_type": "execute_result",
          "data": {
            "text/plain": [
              "array(['CHR', 'START', 'END', 'STRAND', 'GENE', 'TRANSCRIPT', 'IVS',\n",
              "       'IVS_SIZE', 'BP_POS', 'BP_ACC_DIST', 'BP_ACC_SEQ', 'IVS_SEQ',\n",
              "       'BP_POS_WITHIN_STRAND'], dtype=object)"
            ]
          },
          "metadata": {},
          "execution_count": 61
        }
      ]
    },
    {
      "cell_type": "code",
      "source": [
        "#Create a split based on chromosome types (Alis idea)\n",
        "#We do this split to keep our tests fair to the machine learning models.\n",
        "train_chrs = [\"chr1\", \"chr2\", \"chr3\", \"chr4\",\n",
        "              \"chr5\", \"chr6\", \"chr7\",\n",
        "              \"chr12\", \"chr13\", \"chr14\",\n",
        "              \"chr15\", \"chr16\", \"chr17\", \"chr18\",\n",
        "              \"chr19\", \"chr20\", \"chr21\", \"chr22\",\n",
        "              \"chrX\", \"chrY\"]\n",
        "\n",
        "test_chrs = [\"chr8\", \"chr11\"]\n",
        "val_chrs = [\"chr9\", \"chr10\"]\n",
        "\n",
        "train_df, test_df, val_df = split_train_test_on_chr(df, train_chrs, val_chrs, test_chrs, shuffle=True)"
      ],
      "metadata": {
        "colab": {
          "base_uri": "https://localhost:8080/"
        },
        "id": "2hiMNmf7T6EM",
        "outputId": "59a6896b-9787-4f45-9928-4b100b47cda4"
      },
      "execution_count": 62,
      "outputs": [
        {
          "output_type": "stream",
          "name": "stdout",
          "text": [
            "Chromosomes in train set: {'chr5', 'chr12', 'chr6', 'chr18', 'chr7', 'chr13', 'chr1', 'chr19', 'chr15', 'chrY', 'chr2', 'chr16', 'chr14', 'chr3', 'chr17', 'chr21', 'chr22', 'chrX', 'chr20', 'chr4'}\n",
            "Chromosomes in validation set: {'chr9', 'chr10'}\n",
            "Chromosomes in test set: {'chr11', 'chr8'}\n",
            "\n",
            "Total data points: 177980\n",
            "Train set contains 147559 data points (82.91%)\n",
            "Validation set contains 14434 data points (8.11%)\n",
            "Test set contains 15987 data points (8.98%)\n"
          ]
        }
      ]
    },
    {
      "cell_type": "markdown",
      "source": [
        "### Compute distributions regarding the BPs"
      ],
      "metadata": {
        "id": "eFrN9C5SVx9t"
      }
    },
    {
      "cell_type": "code",
      "source": [
        "#find probability of a BP being a given nucleotide\n",
        "base_counts = {\"A\": 0, \"C\": 0, \"T\": 0, \"G\": 0}\n",
        "\n",
        "for i, sequence in enumerate(train_df[\"IVS_SEQ\"]):\n",
        "    base = sequence[train_df[\"BP_ACC_DIST\"][i]]\n",
        "    if base in base_counts:\n",
        "        base_counts[base] += 1\n",
        "\n",
        "As, Cs, Ts, Gs = base_counts[\"A\"], base_counts[\"C\"], base_counts[\"T\"], base_counts[\"G\"]\n",
        "\n",
        "As /= len(train_df[\"IVS_SEQ\"])\n",
        "Cs /= len(train_df[\"IVS_SEQ\"])\n",
        "Ts /= len(train_df[\"IVS_SEQ\"])\n",
        "Gs /= len(train_df[\"IVS_SEQ\"])\n",
        "\n",
        "NT_probs = {\"A\": As, \"C\" : Cs, \"T\" : Ts, \"G\" : Gs}\n",
        "\n",
        "#Plot probability of NTs\n",
        "fig, ax = plt.subplots(figsize = (5,3), dpi = 100)\n",
        "ax.bar([\"A\", \"C\", \"T\", \"G\"], [As, Cs, Ts, Gs])\n",
        "ax.set_ylabel('branch point acid')\n",
        "ax.set_title('probability that the BP is at a certain NT type')\n",
        "plt.show()"
      ],
      "metadata": {
        "colab": {
          "base_uri": "https://localhost:8080/",
          "height": 314
        },
        "id": "w2WGQ9fFV7Ws",
        "outputId": "32c9f472-7c4e-4165-e8cd-67e975c41074"
      },
      "execution_count": 63,
      "outputs": [
        {
          "output_type": "display_data",
          "data": {
            "text/plain": [
              "<Figure size 500x300 with 1 Axes>"
            ],
            "image/png": "[encoded data removed]"
          },
          "metadata": {}
        }
      ]
    },
    {
      "cell_type": "code",
      "source": [
        "positions = df[\"BP_ACC_DIST\"].to_numpy()\n",
        "\n",
        "minimum = np.min(positions)\n",
        "maximum = np.max(positions)\n",
        "avg = np.mean(positions)\n",
        "\n",
        "fig, ax = plt.subplots(figsize = (4,3), dpi = 100)\n",
        "n, bins, patches = ax.hist(positions, 0-minimum, (minimum,0))\n",
        "ax.set_xlabel(\"branch point distance from acceptor\")\n",
        "ax.set_ylabel(\"counts\")\n",
        "fig.show()"
      ],
      "metadata": {
        "colab": {
          "base_uri": "https://localhost:8080/",
          "height": 311
        },
        "id": "DT5uNrRUZsMx",
        "outputId": "f866b584-fab5-4d05-b72e-d7e45d39b8fe"
      },
      "execution_count": 64,
      "outputs": [
        {
          "output_type": "display_data",
          "data": {
            "text/plain": [
              "<Figure size 400x300 with 1 Axes>"
            ],
            "image/png": "[encoded data removed]"
          },
          "metadata": {}
        }
      ]
    },
    {
      "cell_type": "code",
      "source": [
        "location_probabilities = n/len(df[\"BP_ACC_DIST\"]) #normalize the probabilities\n",
        "positions = bins[:-1] # bins are interval limits so need to crop the end off\n",
        "truncation_length = np.abs(minimum) #Figure out which interval is important"
      ],
      "metadata": {
        "id": "xFAnEb1TaGgb"
      },
      "execution_count": 65,
      "outputs": []
    },
    {
      "cell_type": "markdown",
      "source": [
        "### Extract sequences and data"
      ],
      "metadata": {
        "id": "kKcInYnxWCOW"
      }
    },
    {
      "cell_type": "code",
      "source": [
        "#Truncate to the furthest BP seen in the training data, makes things run faster at zero cost to the model performance\n",
        "test_seqs, test_labels = extract_intron_seq_and_labels(test_df, max_model_input_size=truncation_length, truncate=True)"
      ],
      "metadata": {
        "id": "duGnf6jIUQos"
      },
      "execution_count": 66,
      "outputs": []
    },
    {
      "cell_type": "markdown",
      "source": [
        "### Now we define the \"model\" which will calculate branch point probabilities"
      ],
      "metadata": {
        "id": "hgYTAjVtdKCV"
      }
    },
    {
      "cell_type": "code",
      "source": [
        "#This \"model\" is quite a lot simpler than the ML approaches\n",
        "def probability_calculator(seqs, loc_probs, NT_probs):\n",
        "  \"\"\"\n",
        "  input : seqs\n",
        "    List of DNA strings with the acceptor at the right\n",
        "\n",
        "  output : probabilities\n",
        "    List of lists which each have length len(seq) containing probabilities\n",
        "  \"\"\"\n",
        "  probabilities = []\n",
        "  for seq in seqs:\n",
        "    loc_probs_copy = loc_probs.copy() # This is necessary to avoid shallow copies overwriting loc_probs globally\n",
        "    probability = loc_probs_copy[-len(seq):] #Truncate to the right length\n",
        "    for i, base in enumerate(seq):\n",
        "      probability[i] *= NT_probs[base] # Account for NT probabilities\n",
        "    probabilities.append(probability)\n",
        "  return probabilities"
      ],
      "metadata": {
        "id": "rieduJ7pcyxb"
      },
      "execution_count": 67,
      "outputs": []
    },
    {
      "cell_type": "markdown",
      "source": [
        "### Apply the model"
      ],
      "metadata": {
        "id": "rx46hQc8in4b"
      }
    },
    {
      "cell_type": "code",
      "source": [
        "#Get all the predicted probabilities\n",
        "probabilities = probability_calculator(test_seqs, location_probabilities, NT_probs)"
      ],
      "metadata": {
        "id": "Xayxeu4OinOU"
      },
      "execution_count": 68,
      "outputs": []
    },
    {
      "cell_type": "markdown",
      "source": [
        "### Get AP, ideal threshold and F1"
      ],
      "metadata": {
        "id": "UVHkHW18v-cT"
      }
    },
    {
      "cell_type": "code",
      "source": [
        "#First get AP metrics\n",
        "from sklearn.metrics import average_precision_score, PrecisionRecallDisplay, precision_recall_curve\n",
        "def calc_AP(probabilities, labels):\n",
        "\n",
        "  long_prob = []\n",
        "  for prob_list in probabilities:\n",
        "    long_prob += prob_list.tolist()\n",
        "\n",
        "  long_labels = []\n",
        "  for label_list in labels:\n",
        "    long_labels += label_list\n",
        "\n",
        "  AP = average_precision_score(long_labels, long_prob)\n",
        "  precision, recall, thresholds = precision_recall_curve(long_labels, long_prob)\n",
        "  return AP, precision, recall, thresholds"
      ],
      "metadata": {
        "id": "t9qnt6o8ilha"
      },
      "execution_count": 69,
      "outputs": []
    },
    {
      "cell_type": "code",
      "source": [
        "AP, precision, recall, thresholds = calc_AP(probabilities, test_labels)\n",
        "F1 = np.max(2 * (precision * recall) / (precision + recall))"
      ],
      "metadata": {
        "id": "jilVCpFWsIJS"
      },
      "execution_count": 70,
      "outputs": []
    },
    {
      "cell_type": "code",
      "source": [
        "# Find ideal decision boundary for maximum F1\n",
        "ideal_threshold = thresholds[np.argmax(2 * (precision * recall) / (precision + recall))]\n",
        "ideal_recall = recall[np.argmax(2 * (precision * recall) / (precision + recall))]"
      ],
      "metadata": {
        "id": "xiN_tJcMycyb"
      },
      "execution_count": 71,
      "outputs": []
    },
    {
      "cell_type": "code",
      "source": [
        "#Plot precision recall curve\n",
        "fig, ax = plt.subplots(figsize = (5,3), dpi = 200)\n",
        "ax.plot(recall, precision, label = \"AP = {0:.4f}\".format(AP))\n",
        "ax.plot([ideal_recall, ideal_recall], [0,1], label = \"ideal threshold = {0:.4f}\".format(ideal_threshold))\n",
        "ax.set_ylabel(\"precision\")\n",
        "ax.set_xlabel(\"recall\")\n",
        "fig.legend()"
      ],
      "metadata": {
        "colab": {
          "base_uri": "https://localhost:8080/",
          "height": 680
        },
        "id": "upKwYRwtzCiX",
        "outputId": "bb03e210-6aeb-45a8-d20d-06a1a5087836"
      },
      "execution_count": 72,
      "outputs": [
        {
          "output_type": "execute_result",
          "data": {
            "text/plain": [
              "<matplotlib.legend.Legend at 0x791435445450>"
            ]
          },
          "metadata": {},
          "execution_count": 72
        },
        {
          "output_type": "display_data",
          "data": {
            "text/plain": [
              "<Figure size 1000x600 with 1 Axes>"
            ],
            "image/png": "[encoded data removed]"
          },
          "metadata": {}
        }
      ]
    },
    {
      "cell_type": "markdown",
      "source": [
        "### Calculate accuracy per sequence at ideal decision boundary and check if all predicted BPs are As"
      ],
      "metadata": {
        "id": "bS8Rqt-_06EL"
      }
    },
    {
      "cell_type": "code",
      "source": [
        "def accuracy_calculator(probabilities, labels, threshold, seqs = None):\n",
        "  N_correct = 0\n",
        "  all_As = True\n",
        "\n",
        "  #Find predictions given threshold\n",
        "  for i, prob_list in enumerate(probabilities):\n",
        "    prediction = np.where(prob_list > threshold, 1, 0)\n",
        "\n",
        "    if seqs != None: #If seqs have been passed this checks if all BPs are As\n",
        "      for index in (np.where(prediction == 1)[0]):\n",
        "        if seqs[i][index] != \"A\":\n",
        "          all_As = False\n",
        "\n",
        "    #Check if sequence label is entirely correct\n",
        "    if np.array_equal(prediction, labels[i]):\n",
        "      N_correct += 1\n",
        "\n",
        "  if seqs != None:\n",
        "    print(\"Are all predicted BPs As? {}\".format(all_As))\n",
        "\n",
        "  return N_correct/len(probabilities)"
      ],
      "metadata": {
        "id": "E6mYgdGB1BZ6"
      },
      "execution_count": 73,
      "outputs": []
    },
    {
      "cell_type": "code",
      "source": [
        "accuracy = accuracy_calculator(probabilities, test_labels, ideal_threshold, test_seqs)"
      ],
      "metadata": {
        "colab": {
          "base_uri": "https://localhost:8080/"
        },
        "id": "49ty7xW22AjE",
        "outputId": "6112f716-5b17-442c-c9d8-3e8aeafb84db"
      },
      "execution_count": 74,
      "outputs": [
        {
          "output_type": "stream",
          "name": "stdout",
          "text": [
            "Are all predicted BPs As? True\n"
          ]
        }
      ]
    },
    {
      "cell_type": "markdown",
      "source": [
        "### Final Results"
      ],
      "metadata": {
        "id": "GrVui1J57iuj"
      }
    },
    {
      "cell_type": "code",
      "source": [
        "final_benchmarks = {\"accuracy\" : accuracy, \"AP\" : AP, \"F1\" : F1}"
      ],
      "metadata": {
        "id": "UtqigMY42QRd"
      },
      "execution_count": 75,
      "outputs": []
    },
    {
      "cell_type": "code",
      "source": [
        "print(final_benchmarks)"
      ],
      "metadata": {
        "colab": {
          "base_uri": "https://localhost:8080/"
        },
        "id": "hGbDzUvt2c3r",
        "outputId": "da10176a-a724-4529-8d16-f3f857f012a9"
      },
      "execution_count": 76,
      "outputs": [
        {
          "output_type": "stream",
          "name": "stdout",
          "text": [
            "{'accuracy': 0.17652764306498545, 'AP': 0.3079060221645208, 'F1': 0.42026581847097577}\n"
          ]
        }
      ]
    }
  ]
}