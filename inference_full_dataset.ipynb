{
  "nbformat": 4,
  "nbformat_minor": 0,
  "metadata": {
    "colab": {
      "provenance": [],
      "gpuType": "A100"
    },
    "kernelspec": {
      "name": "python3",
      "display_name": "Python 3"
    },
    "language_info": {
      "name": "python"
    },
    "accelerator": "GPU",
    "widgets": {
      "application/vnd.jupyter.widget-state+json": {
        "5efffb6de00b43ababc84a7e1802f09d": {
          "model_module": "@jupyter-widgets/controls",
          "model_name": "HBoxModel",
          "model_module_version": "1.5.0",
          "state": {
            "_dom_classes": [],
            "_model_module": "@jupyter-widgets/controls",
            "_model_module_version": "1.5.0",
            "_model_name": "HBoxModel",
            "_view_count": null,
            "_view_module": "@jupyter-widgets/controls",
            "_view_module_version": "1.5.0",
            "_view_name": "HBoxView",
            "box_style": "",
            "children": [
              "IPY_MODEL_1dcd4403b1784d55850e60b09f10dcbc",
              "IPY_MODEL_c4dcb53bdbd144679f36942a38bbbe2b",
              "IPY_MODEL_e85b6e72cc2b4c45bcfcd80949316cba"
            ],
            "layout": "IPY_MODEL_9a497f3f937543bd98a3a6c7c3fdaedc"
          }
        },
        "1dcd4403b1784d55850e60b09f10dcbc": {
          "model_module": "@jupyter-widgets/controls",
          "model_name": "HTMLModel",
          "model_module_version": "1.5.0",
          "state": {
            "_dom_classes": [],
            "_model_module": "@jupyter-widgets/controls",
            "_model_module_version": "1.5.0",
            "_model_name": "HTMLModel",
            "_view_count": null,
            "_view_module": "@jupyter-widgets/controls",
            "_view_module_version": "1.5.0",
            "_view_name": "HTMLView",
            "description": "",
            "description_tooltip": null,
            "layout": "IPY_MODEL_3e35cd151f3b4f858f0184190abc8b35",
            "placeholder": "​",
            "style": "IPY_MODEL_1c455557424a4857a9a7f4f279b535cc",
            "value": "Evaluating: 100%"
          }
        },
        "c4dcb53bdbd144679f36942a38bbbe2b": {
          "model_module": "@jupyter-widgets/controls",
          "model_name": "FloatProgressModel",
          "model_module_version": "1.5.0",
          "state": {
            "_dom_classes": [],
            "_model_module": "@jupyter-widgets/controls",
            "_model_module_version": "1.5.0",
            "_model_name": "FloatProgressModel",
            "_view_count": null,
            "_view_module": "@jupyter-widgets/controls",
            "_view_module_version": "1.5.0",
            "_view_name": "ProgressView",
            "bar_style": "success",
            "description": "",
            "description_tooltip": null,
            "layout": "IPY_MODEL_4bc8725117ca48dd92b257880d5dccc5",
            "max": 968,
            "min": 0,
            "orientation": "horizontal",
            "style": "IPY_MODEL_3107281043314a7ea905ff0cb7845497",
            "value": 968
          }
        },
        "e85b6e72cc2b4c45bcfcd80949316cba": {
          "model_module": "@jupyter-widgets/controls",
          "model_name": "HTMLModel",
          "model_module_version": "1.5.0",
          "state": {
            "_dom_classes": [],
            "_model_module": "@jupyter-widgets/controls",
            "_model_module_version": "1.5.0",
            "_model_name": "HTMLModel",
            "_view_count": null,
            "_view_module": "@jupyter-widgets/controls",
            "_view_module_version": "1.5.0",
            "_view_name": "HTMLView",
            "description": "",
            "description_tooltip": null,
            "layout": "IPY_MODEL_4e58bbefaf8945af99d0cdda1de4945f",
            "placeholder": "​",
            "style": "IPY_MODEL_9caad22477194df0ba82d7e75c2abbd6",
            "value": " 968/968 [20:19&lt;00:00,  1.13s/it]"
          }
        },
        "9a497f3f937543bd98a3a6c7c3fdaedc": {
          "model_module": "@jupyter-widgets/base",
          "model_name": "LayoutModel",
          "model_module_version": "1.2.0",
          "state": {
            "_model_module": "@jupyter-widgets/base",
            "_model_module_version": "1.2.0",
            "_model_name": "LayoutModel",
            "_view_count": null,
            "_view_module": "@jupyter-widgets/base",
            "_view_module_version": "1.2.0",
            "_view_name": "LayoutView",
            "align_content": null,
            "align_items": null,
            "align_self": null,
            "border": null,
            "bottom": null,
            "display": null,
            "flex": null,
            "flex_flow": null,
            "grid_area": null,
            "grid_auto_columns": null,
            "grid_auto_flow": null,
            "grid_auto_rows": null,
            "grid_column": null,
            "grid_gap": null,
            "grid_row": null,
            "grid_template_areas": null,
            "grid_template_columns": null,
            "grid_template_rows": null,
            "height": null,
            "justify_content": null,
            "justify_items": null,
            "left": null,
            "margin": null,
            "max_height": null,
            "max_width": null,
            "min_height": null,
            "min_width": null,
            "object_fit": null,
            "object_position": null,
            "order": null,
            "overflow": null,
            "overflow_x": null,
            "overflow_y": null,
            "padding": null,
            "right": null,
            "top": null,
            "visibility": null,
            "width": null
          }
        },
        "3e35cd151f3b4f858f0184190abc8b35": {
          "model_module": "@jupyter-widgets/base",
          "model_name": "LayoutModel",
          "model_module_version": "1.2.0",
          "state": {
            "_model_module": "@jupyter-widgets/base",
            "_model_module_version": "1.2.0",
            "_model_name": "LayoutModel",
            "_view_count": null,
            "_view_module": "@jupyter-widgets/base",
            "_view_module_version": "1.2.0",
            "_view_name": "LayoutView",
            "align_content": null,
            "align_items": null,
            "align_self": null,
            "border": null,
            "bottom": null,
            "display": null,
            "flex": null,
            "flex_flow": null,
            "grid_area": null,
            "grid_auto_columns": null,
            "grid_auto_flow": null,
            "grid_auto_rows": null,
            "grid_column": null,
            "grid_gap": null,
            "grid_row": null,
            "grid_template_areas": null,
            "grid_template_columns": null,
            "grid_template_rows": null,
            "height": null,
            "justify_content": null,
            "justify_items": null,
            "left": null,
            "margin": null,
            "max_height": null,
            "max_width": null,
            "min_height": null,
            "min_width": null,
            "object_fit": null,
            "object_position": null,
            "order": null,
            "overflow": null,
            "overflow_x": null,
            "overflow_y": null,
            "padding": null,
            "right": null,
            "top": null,
            "visibility": null,
            "width": null
          }
        },
        "1c455557424a4857a9a7f4f279b535cc": {
          "model_module": "@jupyter-widgets/controls",
          "model_name": "DescriptionStyleModel",
          "model_module_version": "1.5.0",
          "state": {
            "_model_module": "@jupyter-widgets/controls",
            "_model_module_version": "1.5.0",
            "_model_name": "DescriptionStyleModel",
            "_view_count": null,
            "_view_module": "@jupyter-widgets/base",
            "_view_module_version": "1.2.0",
            "_view_name": "StyleView",
            "description_width": ""
          }
        },
        "4bc8725117ca48dd92b257880d5dccc5": {
          "model_module": "@jupyter-widgets/base",
          "model_name": "LayoutModel",
          "model_module_version": "1.2.0",
          "state": {
            "_model_module": "@jupyter-widgets/base",
            "_model_module_version": "1.2.0",
            "_model_name": "LayoutModel",
            "_view_count": null,
            "_view_module": "@jupyter-widgets/base",
            "_view_module_version": "1.2.0",
            "_view_name": "LayoutView",
            "align_content": null,
            "align_items": null,
            "align_self": null,
            "border": null,
            "bottom": null,
            "display": null,
            "flex": null,
            "flex_flow": null,
            "grid_area": null,
            "grid_auto_columns": null,
            "grid_auto_flow": null,
            "grid_auto_rows": null,
            "grid_column": null,
            "grid_gap": null,
            "grid_row": null,
            "grid_template_areas": null,
            "grid_template_columns": null,
            "grid_template_rows": null,
            "height": null,
            "justify_content": null,
            "justify_items": null,
            "left": null,
            "margin": null,
            "max_height": null,
            "max_width": null,
            "min_height": null,
            "min_width": null,
            "object_fit": null,
            "object_position": null,
            "order": null,
            "overflow": null,
            "overflow_x": null,
            "overflow_y": null,
            "padding": null,
            "right": null,
            "top": null,
            "visibility": null,
            "width": null
          }
        },
        "3107281043314a7ea905ff0cb7845497": {
          "model_module": "@jupyter-widgets/controls",
          "model_name": "ProgressStyleModel",
          "model_module_version": "1.5.0",
          "state": {
            "_model_module": "@jupyter-widgets/controls",
            "_model_module_version": "1.5.0",
            "_model_name": "ProgressStyleModel",
            "_view_count": null,
            "_view_module": "@jupyter-widgets/base",
            "_view_module_version": "1.2.0",
            "_view_name": "StyleView",
            "bar_color": null,
            "description_width": ""
          }
        },
        "4e58bbefaf8945af99d0cdda1de4945f": {
          "model_module": "@jupyter-widgets/base",
          "model_name": "LayoutModel",
          "model_module_version": "1.2.0",
          "state": {
            "_model_module": "@jupyter-widgets/base",
            "_model_module_version": "1.2.0",
            "_model_name": "LayoutModel",
            "_view_count": null,
            "_view_module": "@jupyter-widgets/base",
            "_view_module_version": "1.2.0",
            "_view_name": "LayoutView",
            "align_content": null,
            "align_items": null,
            "align_self": null,
            "border": null,
            "bottom": null,
            "display": null,
            "flex": null,
            "flex_flow": null,
            "grid_area": null,
            "grid_auto_columns": null,
            "grid_auto_flow": null,
            "grid_auto_rows": null,
            "grid_column": null,
            "grid_gap": null,
            "grid_row": null,
            "grid_template_areas": null,
            "grid_template_columns": null,
            "grid_template_rows": null,
            "height": null,
            "justify_content": null,
            "justify_items": null,
            "left": null,
            "margin": null,
            "max_height": null,
            "max_width": null,
            "min_height": null,
            "min_width": null,
            "object_fit": null,
            "object_position": null,
            "order": null,
            "overflow": null,
            "overflow_x": null,
            "overflow_y": null,
            "padding": null,
            "right": null,
            "top": null,
            "visibility": null,
            "width": null
          }
        },
        "9caad22477194df0ba82d7e75c2abbd6": {
          "model_module": "@jupyter-widgets/controls",
          "model_name": "DescriptionStyleModel",
          "model_module_version": "1.5.0",
          "state": {
            "_model_module": "@jupyter-widgets/controls",
            "_model_module_version": "1.5.0",
            "_model_name": "DescriptionStyleModel",
            "_view_count": null,
            "_view_module": "@jupyter-widgets/base",
            "_view_module_version": "1.2.0",
            "_view_name": "StyleView",
            "description_width": ""
          }
        }
      }
    }
  },
  "cells": [
    {
      "cell_type": "markdown",
      "source": [
        "# Inference Code\n",
        "\n",
        "This notebook loads one of the fine-tuned models and runs inference on every nucleotide sequence. In our case, we used the fine-tuned [ErnieRNA](https://huggingface.co/timothytran/FineTuned_RNAModels_for_BranchPoint_Prediction/tree/main/multimolecule-ernierna-finetuned/final_model), our best performing model. Since the max input size of this model is 1024, for any sequences longer than this model, we split it into chunks, run inference on those chunks, and concatenate the generated probabilites to get a single probability for each nucleotide in the sequence."
      ],
      "metadata": {
        "id": "AtsPWYnrXZ6T"
      }
    },
    {
      "cell_type": "code",
      "execution_count": 23,
      "metadata": {
        "id": "I2NkRPHErkKm"
      },
      "outputs": [],
      "source": [
        "%%capture\n",
        "!pip install datasets evaluate multimolecule==0.0.5"
      ]
    },
    {
      "cell_type": "code",
      "source": [
        "import os\n",
        "import pandas as pd\n",
        "import torch\n",
        "from transformers import (\n",
        "    DataCollatorForTokenClassification,\n",
        "    TrainingArguments,\n",
        "    Trainer\n",
        ")\n",
        "from datasets import Dataset\n",
        "from google.colab import drive\n",
        "\n",
        "import matplotlib.pyplot as plt\n",
        "\n",
        "from tqdm.auto import tqdm\n",
        "from collections import defaultdict\n",
        "import pandas as pd\n",
        "import numpy as np"
      ],
      "metadata": {
        "id": "Lf_qTD9PsAsz"
      },
      "execution_count": 24,
      "outputs": []
    },
    {
      "cell_type": "code",
      "source": [
        "from google.colab import drive\n",
        "drive.mount('/content/drive')\n",
        "\n",
        "WORKING_DIRECTORY = '/content/drive/MyDrive/INPUT_FOLDER_NAME'\n",
        "DATASET_PATH = 'INPUT_LOCATION_OF_DATA'\n",
        "\n",
        "%cd {WORKING_DIRECTORY}\n",
        "\n",
        "os.environ[\"WANDB_MODE\"] = \"disabled\"\n",
        "\n",
        "device = \"cuda\" if torch.cuda.is_available() else \"cpu\"\n",
        "print(f\"Using device: {device}\")"
      ],
      "metadata": {
        "colab": {
          "base_uri": "https://localhost:8080/"
        },
        "id": "ZAbDYadjsCDJ",
        "outputId": "105acd9e-7e11-4be6-cd77-8311ac8bef2d"
      },
      "execution_count": 25,
      "outputs": [
        {
          "output_type": "stream",
          "name": "stdout",
          "text": [
            "Drive already mounted at /content/drive; to attempt to forcibly remount, call drive.mount(\"/content/drive\", force_remount=True).\n",
            "/content/drive/MyDrive/epfl_ml_project\n",
            "Using device: cuda\n"
          ]
        }
      ]
    },
    {
      "cell_type": "markdown",
      "source": [
        "## Choose the model to run inference"
      ],
      "metadata": {
        "id": "hNQbxWs5Y9b5"
      }
    },
    {
      "cell_type": "code",
      "source": [
        "from multimolecule import (\n",
        "    RnaTokenizer,\n",
        "    ErnieRnaForTokenPrediction,\n",
        "    ErnieRnaConfig\n",
        ")\n",
        "\n",
        "# Define configuration\n",
        "config = ErnieRnaConfig()\n",
        "config.problem_type = \"single_label_classification\"\n",
        "config.num_labels = 2\n",
        "\n",
        "# Define constants\n",
        "MODEL_MAX_INPUT_SIZE = 1024\n",
        "model_folder = f\"finetuned-ernie-final/\"\n",
        "\n",
        "# Load model and tokenizer\n",
        "trained_model = ErnieRnaForTokenPrediction.from_pretrained(model_folder, config=config)\n",
        "tokenizer = RnaTokenizer.from_pretrained(model_folder)"
      ],
      "metadata": {
        "id": "e4mK7Cc7sHSt"
      },
      "execution_count": 26,
      "outputs": []
    },
    {
      "cell_type": "markdown",
      "source": [
        "## Dataset generation\n",
        "Due to dataset generation time, we've modified the notebook to only generate probabilites for 10,000 sequences at a time. To run this on a dataset of >10,000 sequences, rerun this notebook starting at 1 until you've generated probabilites for every sequence. A CSV is generated for each chunk of 10,000.\n",
        "\n",
        "This can be easily automated in a for-loop."
      ],
      "metadata": {
        "id": "BGon_GH4X5Ox"
      }
    },
    {
      "cell_type": "code",
      "source": [
        "# Load dataset\n",
        "full_df = pd.read_csv(DATASET_PATH, sep='\\t')\n",
        "DATAFRAME_SECTION = 10 # 1 indexed\n",
        "DATAFRAME_CHUNCK_SIZE = 10000\n",
        "df = full_df.iloc[(DATAFRAME_SECTION - 1) * DATAFRAME_CHUNCK_SIZE : DATAFRAME_SECTION * DATAFRAME_CHUNCK_SIZE]\n"
      ],
      "metadata": {
        "id": "BxzJdmYpsJJJ"
      },
      "execution_count": 27,
      "outputs": []
    },
    {
      "cell_type": "code",
      "source": [
        "\"\"\"\n",
        "This is the code that splits the data in chunks, makes predictions, and puts\n",
        "the predictions together.\n",
        "\n",
        "All of these methods are modifications of the original scripts from\n",
        "https://github.com/AliSaadatV/BP_LM/tree/main/scripts.\n",
        "\n",
        "\"\"\"\n",
        "\n",
        "# Data preprocessing\n",
        "def extract_intron_seq_and_labels(df, chunk_size):\n",
        "    \"\"\"\n",
        "    Splits sequences into fixed-size chunks and creates binary labels. Labels are 1 at the branch point position and 0 elsewhere.\n",
        "    \"\"\"\n",
        "    ivs_sequences = df['IVS_SEQ'].tolist()\n",
        "    bp_positions = df['BP_POS_WITHIN_STRAND'].tolist()\n",
        "\n",
        "    processed_sequences = []\n",
        "    processed_labels = []\n",
        "    chunk_mappings = []\n",
        "\n",
        "    for orig_idx, (sequence, bp_pos) in enumerate(zip(ivs_sequences, bp_positions)):\n",
        "        seq_len = len(sequence)\n",
        "        for offset in range(0, seq_len, chunk_size):\n",
        "            chunk = sequence[offset:offset + chunk_size]\n",
        "            chunk_len = len(chunk)\n",
        "            if offset <= bp_pos < offset + chunk_len:\n",
        "                label = [0] * (bp_pos - offset) + [1] + [0] * (chunk_len - (bp_pos - offset) - 1)\n",
        "            else:\n",
        "                label = [0] * chunk_len\n",
        "\n",
        "            processed_sequences.append(chunk)\n",
        "            processed_labels.append(label)\n",
        "            chunk_mappings.append((orig_idx, offset, chunk_len))\n",
        "\n",
        "    return processed_sequences, processed_labels, chunk_mappings\n",
        "\n",
        "def create_dataset(df, tokenizer, chunk_size, seed, sample_n_datapoints):\n",
        "    \"\"\"\n",
        "    Creates a tokenized dataset with fixed-length chunks. Optionally samples a subset of the data.\n",
        "    \"\"\"\n",
        "    if sample_n_datapoints:\n",
        "        df = df.sample(n=sample_n_datapoints, random_state=seed)\n",
        "\n",
        "    df = df.copy()\n",
        "    df['BP_POS_WITHIN_STRAND'] = df['IVS_SIZE'] + df['BP_ACC_DIST']\n",
        "\n",
        "    sequences, labels, mappings = extract_intron_seq_and_labels(df, chunk_size)\n",
        "\n",
        "    tokenized = tokenizer(\n",
        "        sequences,\n",
        "        padding='max_length',\n",
        "        truncation=True,\n",
        "        max_length=chunk_size,\n",
        "        return_tensors='pt'\n",
        "    )\n",
        "\n",
        "    dataset = Dataset.from_dict(tokenized)\n",
        "    return dataset.add_column(\"labels\", labels).add_column(\"mapping\", mappings), sequences\n",
        "\n",
        "\n",
        "# Metrics\n",
        "def compute_sequence_accuracy(predictions, labels):\n",
        "    \"\"\"\n",
        "    Calculate the exact match accuracy between predicted and true labels across sequences.\n",
        "    \"\"\"\n",
        "    correct = sum(np.array_equal(pred, lab) for pred, lab in zip(predictions, labels))\n",
        "    return (correct / len(predictions) * 100) if predictions else 0.0\n",
        "\n",
        "# Probability extraction\n",
        "def get_logits(trainer, dataset):\n",
        "    \"\"\"\n",
        "    Obtains logits for the evaluation dataset.\n",
        "    \"\"\"\n",
        "    trainer.model.eval()\n",
        "    dataloader = trainer.get_eval_dataloader(dataset)\n",
        "    logits_list, labels_list = [], []\n",
        "\n",
        "    with torch.no_grad():\n",
        "        for batch in tqdm(dataloader, desc=\"Evaluating\"):\n",
        "\n",
        "            batch = {k: v.to(trainer.args.device) for k, v in batch.items()}\n",
        "            outputs = trainer.model(**batch)\n",
        "            logits_list.append(outputs.logits.cpu().numpy())\n",
        "            labels_list.append(batch['labels'].cpu().numpy())\n",
        "\n",
        "    return np.concatenate(logits_list), np.concatenate(labels_list)\n",
        "\n",
        "def aggregate_chunks(logits, labels, sequences, mapping):\n",
        "    \"\"\"\n",
        "    Reconstructs full sequences from chunked predictions using the provided mapping.\n",
        "    \"\"\"\n",
        "    aggregated_data = defaultdict(lambda: {'logits': [], 'labels': [], 'sequences': []})\n",
        "\n",
        "    for idx, (orig_id, offset, chunk_len) in enumerate(mapping):\n",
        "        aggregated_data[orig_id]['logits'].append((offset, logits[idx][:chunk_len]))\n",
        "        aggregated_data[orig_id]['labels'].append((offset, labels[idx][:chunk_len]))\n",
        "        aggregated_data[orig_id]['sequences'].append((offset, sequences[idx][:chunk_len]))\n",
        "\n",
        "    sorted_ids = sorted(aggregated_data.keys())\n",
        "    aggregated_logits = [\n",
        "        np.concatenate([logit for _, logit in sorted(aggregated_data[id]['logits'], key=lambda x: x[0])])\n",
        "        for id in sorted_ids\n",
        "    ]\n",
        "    aggregated_labels = [\n",
        "        np.concatenate([label for _, label in sorted(aggregated_data[id]['labels'], key=lambda x: x[0])])\n",
        "        for id in sorted_ids\n",
        "    ]\n",
        "    aggregated_sequences = [\n",
        "        \"\".join([sequence for _, sequence in sorted(aggregated_data[id]['sequences'], key=lambda x: x[0])])\n",
        "        for id in sorted_ids\n",
        "    ]\n",
        "    return aggregated_logits, aggregated_labels, aggregated_sequences\n",
        "\n",
        "def softmax(x, axis=-1):\n",
        "    x_exp = np.exp(x - np.max(x, axis=axis, keepdims=True))\n",
        "    return x_exp / np.sum(x_exp, axis=axis, keepdims=True)\n",
        "\n",
        "def extract_probabilities(aggregated_logits):\n",
        "    \"\"\"\n",
        "    Converts aggregated prediction logits into probabilities for each NT.\n",
        "    \"\"\"\n",
        "    class_1_probs_list = []\n",
        "\n",
        "    for seq_logits in aggregated_logits:\n",
        "        softmaxed_seq_logits = np.exp(seq_logits[:, 1] - np.max(seq_logits[:, 1])) # Subtract max for numerical stability\n",
        "        class_1_probs_list.append(softmaxed_seq_logits / np.sum(softmaxed_seq_logits))\n",
        "\n",
        "    return class_1_probs_list\n",
        "\n",
        "def classify_sequences(class_1_probs_list):\n",
        "    classifications = []\n",
        "\n",
        "    for class_1_probs in class_1_probs_list:\n",
        "        max_prob_position = np.argmax(class_1_probs)\n",
        "        pred = np.zeros_like(class_1_probs, dtype=int)\n",
        "        pred[max_prob_position] = 1\n",
        "        classifications.append(pred)\n",
        "\n",
        "    return classifications\n",
        "\n",
        "# Histogram plotting\n",
        "def plot_accuracy_vs_sequence_length(predictions, true_labels, chunk_size):\n",
        "    \"\"\"\n",
        "    Plots a histogram of sequence-level accuracy binned by sequence length\n",
        "    \"\"\"\n",
        "    bin_data = defaultdict(lambda: {\"correct\": 0, \"total\": 0})\n",
        "    for pred, lab in zip(predictions, true_labels):\n",
        "        seq_len = len(lab)\n",
        "        bin_lower = (seq_len // chunk_size) * chunk_size\n",
        "        is_correct = int(np.array_equal(pred, lab))\n",
        "        bin_data[bin_lower][\"correct\"] += is_correct\n",
        "        bin_data[bin_lower][\"total\"] += 1\n",
        "\n",
        "\n",
        "    sorted_bins = sorted(bin_data.items())\n",
        "    bin_labels = [f\"{k}-{k + chunk_size - 1}\" for k, _ in sorted_bins]\n",
        "    bin_centers = [k + chunk_size / 2 for k, _ in sorted_bins]\n",
        "    accuracies = [v[\"correct\"] / v[\"total\"] * 100 for _, v in sorted_bins]\n",
        "    counts = [v[\"total\"] for _, v in sorted_bins]\n",
        "\n",
        "\n",
        "    fig, ax = plt.subplots(figsize=(10, 6))\n",
        "    bars = ax.bar(bin_centers, accuracies, width=chunk_size * 0.8, align='center', alpha=0.7)\n",
        "    ax.set_xlabel(\"Sequence Length Bin\")\n",
        "    ax.set_ylabel(\"Accuracy (%)\")\n",
        "    ax.set_title(\"Sequence-Level Accuracy vs Total Sequence Length\")\n",
        "\n",
        "    for bar, count in zip(bars, counts):\n",
        "        height = bar.get_height()\n",
        "        ax.annotate(f'n={count}', xy=(bar.get_x() + bar.get_width() / 2, height),\n",
        "                    xytext=(0, 3), textcoords=\"offset points\", ha='center', va='bottom', fontsize=8)\n",
        "\n",
        "    ax.set_xticks(bin_centers)\n",
        "    ax.set_xticklabels(bin_labels, rotation=45, ha='right')\n",
        "    plt.tight_layout()\n",
        "    plt.show()"
      ],
      "metadata": {
        "id": "nrOHBeShw_FF"
      },
      "execution_count": 28,
      "outputs": []
    },
    {
      "cell_type": "code",
      "source": [
        "# Configuration Constants\n",
        "CHUNK_SIZE = 1024    # Important, this is set at 1024, 512 works but worse results for sequences under from 512 to 1024 length\n",
        "MODEL_MAX_INPUT_SIZE = 1024\n",
        "SAMPLE_N_DATAPOINTS = None # Can be set to a small number for testing purposes\n",
        "SEED = 10\n",
        "BATCH_SIZE = 64 # Experiment a bit with this before the final run, check VRAM usage. I think we'll be able to go with 64 or more\n",
        "\n",
        "# Filter the dataframe to include only sequences within a given length range.\n",
        "# MAX_LENGTH, MIN_LENGTH = 3 * MODEL_MAX_INPUT_SIZE, 0 * MODEL_MAX_INPUT_SIZE\n",
        "# short_df = df.loc[(df['IVS_SEQ'].str.len() < MAX_LENGTH) &\n",
        "#                   (df['IVS_SEQ'].str.len() > MIN_LENGTH)]\n",
        "\n",
        "# Create the test dataset\n",
        "test_dataset, chunked_sequences = create_dataset(df, tokenizer, chunk_size=CHUNK_SIZE, seed = SEED, sample_n_datapoints = SAMPLE_N_DATAPOINTS)\n",
        "data_collator = DataCollatorForTokenClassification(tokenizer)"
      ],
      "metadata": {
        "id": "75lljSJo9eyv"
      },
      "execution_count": 29,
      "outputs": []
    },
    {
      "cell_type": "code",
      "source": [
        "# Set up training\n",
        "training_args = TrainingArguments(\n",
        "    output_dir='/results',\n",
        "    per_device_eval_batch_size=BATCH_SIZE,\n",
        "    evaluation_strategy=\"steps\",\n",
        "    no_cuda=False,\n",
        ")\n",
        "\n",
        "trainer = Trainer(\n",
        "    model=trained_model,\n",
        "    args=training_args,\n",
        "    eval_dataset=test_dataset,\n",
        "    data_collator=data_collator,\n",
        "    tokenizer=tokenizer,\n",
        ")\n",
        "\n",
        "# Obtain logits, probabilities and labels\n",
        "chunked_logits, chunked_labels = get_logits(trainer, test_dataset)\n",
        "\n"
      ],
      "metadata": {
        "colab": {
          "base_uri": "https://localhost:8080/",
          "height": 140,
          "referenced_widgets": [
            "5efffb6de00b43ababc84a7e1802f09d",
            "1dcd4403b1784d55850e60b09f10dcbc",
            "c4dcb53bdbd144679f36942a38bbbe2b",
            "e85b6e72cc2b4c45bcfcd80949316cba",
            "9a497f3f937543bd98a3a6c7c3fdaedc",
            "3e35cd151f3b4f858f0184190abc8b35",
            "1c455557424a4857a9a7f4f279b535cc",
            "4bc8725117ca48dd92b257880d5dccc5",
            "3107281043314a7ea905ff0cb7845497",
            "4e58bbefaf8945af99d0cdda1de4945f",
            "9caad22477194df0ba82d7e75c2abbd6"
          ]
        },
        "id": "91U5AwR-9baa",
        "outputId": "647cae59-866a-42ea-9ccf-6a834fcb7c32"
      },
      "execution_count": 30,
      "outputs": [
        {
          "output_type": "stream",
          "name": "stderr",
          "text": [
            "/usr/local/lib/python3.11/dist-packages/transformers/training_args.py:1575: FutureWarning: `evaluation_strategy` is deprecated and will be removed in version 4.46 of 🤗 Transformers. Use `eval_strategy` instead\n",
            "  warnings.warn(\n",
            "<ipython-input-30-5357a4667c08>:9: FutureWarning: `tokenizer` is deprecated and will be removed in version 5.0.0 for `Trainer.__init__`. Use `processing_class` instead.\n",
            "  trainer = Trainer(\n"
          ]
        },
        {
          "output_type": "display_data",
          "data": {
            "text/plain": [
              "Evaluating:   0%|          | 0/968 [00:00<?, ?it/s]"
            ],
            "application/vnd.jupyter.widget-view+json": {
              "version_major": 2,
              "version_minor": 0,
              "model_id": "5efffb6de00b43ababc84a7e1802f09d"
            }
          },
          "metadata": {}
        }
      ]
    },
    {
      "cell_type": "code",
      "source": [
        "agg_logits, agg_labels, agg_sequences = aggregate_chunks(chunked_logits, chunked_labels, chunked_sequences, test_dataset['mapping'])\n",
        "agg_probabilities = extract_probabilities(agg_logits)\n",
        "predictions = classify_sequences(agg_probabilities)\n",
        "\n",
        "# Compute Seq. Acc\n",
        "accuracy = compute_sequence_accuracy(predictions, agg_labels)\n",
        "print(f\"Sequence-level accuracy: {accuracy:.2f}%\")\n",
        "print(f\"Correct predictions: {int(accuracy * len(predictions) / 100)}/{len(predictions)}\")\n",
        "\n",
        "# For the histogram plot\n",
        "plot_accuracy_vs_sequence_length(predictions, agg_labels, chunk_size=CHUNK_SIZE // 2)"
      ],
      "metadata": {
        "colab": {
          "base_uri": "https://localhost:8080/",
          "height": 466
        },
        "id": "wiqj1RNy9nK5",
        "outputId": "ff975ed8-bc30-44a8-c8b3-5a721b7529e1"
      },
      "execution_count": 31,
      "outputs": [
        {
          "output_type": "stream",
          "name": "stdout",
          "text": [
            "Sequence-level accuracy: 55.35%\n",
            "Correct predictions: 5535/10000\n"
          ]
        },
        {
          "output_type": "display_data",
          "data": {
            "text/plain": [
              "<Figure size 1000x600 with 1 Axes>"
            ],
            "image/png": "[encoded data removed]"
          },
          "metadata": {}
        }
      ]
    },
    {
      "cell_type": "code",
      "source": [
        "def build_sequence_probability_table(ivs_seq_list, probability_list_999):\n",
        "    \"\"\"\n",
        "    This creates a CSV file with just the sequences and the probabilities for each NT.\n",
        "    \"\"\"\n",
        "    # NOTE: Model outputs the probability list of length 999, so we only take the last part of the probability list\n",
        "    probability_list = [prob[:len(seq)] for prob, seq in zip(probability_list_999, ivs_seq_list)]\n",
        "\n",
        "    # Ensure lengths match\n",
        "    for seq, probs in zip(ivs_seq_list, probability_list):\n",
        "        if len(seq) != len(probs):\n",
        "            print(f\"len of seq: {len(seq)}\")\n",
        "            print(f\"len of probs: {len(probs)}\")\n",
        "            raise ValueError(f\"Length of sequence '{seq}' does not match length of corresponding probabilities.\")\n",
        "\n",
        "    # Create a DataFrame, concatenate probabilites using an underscore\n",
        "    df = pd.DataFrame({\n",
        "        \"Sequence\": ivs_seq_list,\n",
        "        \"Probabilities\": [\"_\".join([f\"{x:.4f}\" if abs(x) > 1e-3 else \"0\" for x in probs]) for probs in probability_list]\n",
        "    })\n",
        "\n",
        "    return df\n",
        "\n",
        "# seq_probs_df = build_sequence_probability_table(agg_sequences, agg_probabilities)\n",
        "# print(seq_probs_df)\n",
        "\n",
        "# # Save DataFrame to a CSV file\n",
        "# seq_probs_df.to_csv(\"sequence_probabilities.csv\", index=False)"
      ],
      "metadata": {
        "id": "GUsGXxdkBGQY"
      },
      "execution_count": 32,
      "outputs": []
    },
    {
      "cell_type": "markdown",
      "source": [
        "## Append the probabilties to the original dataframe"
      ],
      "metadata": {
        "id": "QxQMuVj4Zayj"
      }
    },
    {
      "cell_type": "code",
      "source": [
        "def append_probabilities_to_df(df, ivs_seq_list, probability_list):\n",
        "    # Ensure the sequences in the DF and the sequence list are the same\n",
        "    for i in range(len(df)):\n",
        "        if df.iloc[i]['IVS_SEQ'] != ivs_seq_list[i]:\n",
        "            raise ValueError(f\"Sequences of the DF and sequence list do not match\")\n",
        "\n",
        "    probability_list = [prob[:len(seq)] for prob, seq in zip(probability_list, ivs_seq_list)]\n",
        "\n",
        "    # Ensure lengths match\n",
        "    for seq, probs in zip(ivs_seq_list, probability_list):\n",
        "        if len(seq) != len(probs):\n",
        "            print(f\"len of seq: {len(seq)}\")\n",
        "            print(f\"len of probs: {len(probs)}\")\n",
        "            raise ValueError(f\"Length of sequence '{seq}' does not match length of corresponding probabilities.\")\n",
        "\n",
        "    # Create a DataFrame, concatenate probabilites using an underscore\n",
        "    df[\"Probabilities\"] = [\"_\".join([f\"{x:.4f}\" if abs(x) > 1e-3 else \"0\" for x in probs]) for probs in probability_list]\n",
        "\n",
        "    return df\n",
        "\n",
        "new_df_with_probabilities = append_probabilities_to_df(df, agg_sequences, agg_probabilities)\n",
        "\n",
        "# Save DataFrame to a CSV file\n",
        "new_df_with_probabilities.to_csv(f\"sequence_probabilities_{DATAFRAME_SECTION}.csv\", index=False)"
      ],
      "metadata": {
        "colab": {
          "base_uri": "https://localhost:8080/"
        },
        "id": "csYEQ4V9coKl",
        "outputId": "25e6f398-54bf-4a24-c8da-52b8eff1bc2d"
      },
      "execution_count": 33,
      "outputs": [
        {
          "output_type": "stream",
          "name": "stderr",
          "text": [
            "<ipython-input-33-df92ac61d54d>:17: SettingWithCopyWarning: \n",
            "A value is trying to be set on a copy of a slice from a DataFrame.\n",
            "Try using .loc[row_indexer,col_indexer] = value instead\n",
            "\n",
            "See the caveats in the documentation: https://pandas.pydata.org/pandas-docs/stable/user_guide/indexing.html#returning-a-view-versus-a-copy\n",
            "  df[\"Probabilities\"] = [\"_\".join([f\"{x:.4f}\" if abs(x) > 1e-3 else \"0\" for x in probs]) for probs in probability_list]\n"
          ]
        }
      ]
    }
  ]
}