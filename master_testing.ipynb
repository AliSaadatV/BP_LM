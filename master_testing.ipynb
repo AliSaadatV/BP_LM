{
  "nbformat": 4,
  "nbformat_minor": 0,
  "metadata": {
    "colab": {
      "provenance": [],
      "gpuType": "T4"
    },
    "kernelspec": {
      "name": "python3",
      "display_name": "Python 3"
    },
    "language_info": {
      "name": "python"
    },
    "accelerator": "GPU"
  },
  "cells": [
    {
      "cell_type": "markdown",
      "source": [
        "### Master testing notebook\n",
        "Notebook for computing test parameters on all trained models"
      ],
      "metadata": {
        "id": "c6KofRgE8WJi"
      }
    },
    {
      "cell_type": "code",
      "execution_count": 1,
      "metadata": {
        "id": "tsEST933la1j"
      },
      "outputs": [],
      "source": [
        "%%capture\n",
        "!pip install datasets evaluate multimolecule==0.0.5"
      ]
    },
    {
      "cell_type": "code",
      "source": [
        "import os\n",
        "import pandas as pd\n",
        "import torch\n",
        "from transformers import (\n",
        "    DataCollatorForTokenClassification,\n",
        "    TrainingArguments,\n",
        "    Trainer\n",
        ")\n",
        "from datasets import Dataset\n",
        "from google.colab import drive\n",
        "\n",
        "import matplotlib.pyplot as plt"
      ],
      "metadata": {
        "id": "2d7YrLyQlhqs"
      },
      "execution_count": 2,
      "outputs": []
    },
    {
      "cell_type": "code",
      "source": [
        "drive.mount('/content/drive')\n",
        "\n",
        "WORKING_DIRECTORY = '/content/drive/MyDrive/Machine_Learning_(CS-433)/Project_2'\n",
        "DATASET_PATH = 'data/dataset.txt'\n",
        "\n",
        "%cd {WORKING_DIRECTORY}"
      ],
      "metadata": {
        "colab": {
          "base_uri": "https://localhost:8080/"
        },
        "id": "FoZDXDbKljaR",
        "outputId": "b541a299-57ef-4366-8dac-7af051640276"
      },
      "execution_count": 4,
      "outputs": [
        {
          "output_type": "stream",
          "name": "stdout",
          "text": [
            "Mounted at /content/drive\n",
            "/content/drive/MyDrive/Machine_Learning_(CS-433)/Project_2\n"
          ]
        }
      ]
    },
    {
      "cell_type": "code",
      "source": [
        "from BP_LM.scripts.data_preprocessing import *\n",
        "from BP_LM.scripts.trainer_datasets_creation import create_dataset\n",
        "from BP_LM.scripts.compute_metrics import compute_metrics_test, precision_recall_data\n",
        "from BP_LM.scripts.model_choice import set_multimolecule_model\n",
        "\n",
        "os.environ[\"WANDB_MODE\"] = \"disabled\"\n",
        "\n",
        "device = \"cuda\" if torch.cuda.is_available() else \"cpu\"\n",
        "print(f\"Using device: {device}\")"
      ],
      "metadata": {
        "colab": {
          "base_uri": "https://localhost:8080/"
        },
        "id": "32lfQdanlnuL",
        "outputId": "73221a1f-1a9d-4c54-b092-89419c445ae6"
      },
      "execution_count": 5,
      "outputs": [
        {
          "output_type": "stream",
          "name": "stdout",
          "text": [
            "Using device: cuda\n"
          ]
        }
      ]
    },
    {
      "cell_type": "code",
      "source": [
        "# Model and dataset variables\n",
        "MULTIMOLECULE_MODEL = \"rnabert\" # Available models are: rnafm, rnamsm, ernierna, utrlm-te_el, splicebert, rnabert.\n",
        "SAMPLE_N_DATAPOINTS = 10000  # Set to None to use the full dataset\n",
        "SEED = 32\n",
        "BATCH_SIZE = 16"
      ],
      "metadata": {
        "id": "cQHNx2Z7lpdR"
      },
      "execution_count": 6,
      "outputs": []
    },
    {
      "cell_type": "code",
      "source": [
        "# Initialize the selected multimolecule model\n",
        "trained_model, tokenizer, MODEL_MAX_INPUT_SIZE, ideal_threshold = set_multimolecule_model(MULTIMOLECULE_MODEL, for_testing = True) #Requires there is saved model at f\"{MULTIMOLECULE_MODEL}-finetuned-secondary-structure/best_model\"\n",
        "\n",
        "# Load data and create dataset\n",
        "df = pd.read_csv(DATASET_PATH, sep='\\t')\n",
        "train_dataset, val_dataset, test_dataset = create_dataset(df, tokenizer, trained_model, MODEL_MAX_INPUT_SIZE, SEED, SAMPLE_N_DATAPOINTS)\n",
        "\n",
        "# Set up data collator\n",
        "data_collator = DataCollatorForTokenClassification(tokenizer)"
      ],
      "metadata": {
        "colab": {
          "base_uri": "https://localhost:8080/"
        },
        "id": "voTox5MRmFtL",
        "outputId": "9fa16926-25b3-4924-85d7-cb53620e57eb"
      },
      "execution_count": 7,
      "outputs": [
        {
          "output_type": "stream",
          "name": "stdout",
          "text": [
            "Chromosomes in train set: {'chrY', 'chr2', 'chr18', 'chr19', 'chr7', 'chr5', 'chr1', 'chr17', 'chrX', 'chr14', 'chr13', 'chr16', 'chr3', 'chr20', 'chr6', 'chr12', 'chr4', 'chr22', 'chr21', 'chr15'}\n",
            "Chromosomes in validation set: {'chr9', 'chr10'}\n",
            "Chromosomes in test set: {'chr8', 'chr11'}\n",
            "\n",
            "Total data points: 10000\n",
            "Train set contains 8287 data points (82.87%)\n",
            "Validation set contains 807 data points (8.07%)\n",
            "Test set contains 906 data points (9.06%)\n"
          ]
        }
      ]
    },
    {
      "cell_type": "code",
      "source": [
        "metric = lambda x: compute_metrics_test1(x, MULTIMOLECULE_MODEL, False, ideal_threshold)\n",
        "\n",
        "testing_args = TrainingArguments(\n",
        "    output_dir='/results',\n",
        "    per_device_eval_batch_size=BATCH_SIZE,\n",
        "    do_eval=True,\n",
        "    no_cuda=False,\n",
        ")\n",
        "\n",
        "tester = Trainer(\n",
        "    model=trained_model,\n",
        "    args=testing_args,\n",
        "    eval_dataset=test_dataset,\n",
        "    compute_metrics=metric,\n",
        "    tokenizer=tokenizer,\n",
        "    data_collator=data_collator,\n",
        ")\n",
        "\n",
        "metrics = tester.evaluate()\n",
        "\n",
        "print(\"Evaluation Metrics:\")\n",
        "for key, value in metrics.items():\n",
        "    print(f\"{key}: {value}\")"
      ],
      "metadata": {
        "colab": {
          "base_uri": "https://localhost:8080/",
          "height": 300
        },
        "id": "dy_CfA96oSVY",
        "outputId": "6c9d510d-fb29-4135-adcc-25331d41bd10"
      },
      "execution_count": 9,
      "outputs": [
        {
          "output_type": "stream",
          "name": "stderr",
          "text": [
            "<ipython-input-9-a832c87fd0b1>:10: FutureWarning: `tokenizer` is deprecated and will be removed in version 5.0.0 for `Trainer.__init__`. Use `processing_class` instead.\n",
            "  tester = Trainer(\n"
          ]
        },
        {
          "output_type": "display_data",
          "data": {
            "text/plain": [
              "<IPython.core.display.HTML object>"
            ],
            "text/html": [
              "\n",
              "    <div>\n",
              "      \n",
              "      <progress value='57' max='57' style='width:300px; height:20px; vertical-align: middle;'></progress>\n",
              "      [57/57 00:03]\n",
              "    </div>\n",
              "    "
            ]
          },
          "metadata": {}
        },
        {
          "output_type": "stream",
          "name": "stderr",
          "text": [
            "\u001b[34m\u001b[1mwandb\u001b[0m: \u001b[33mWARNING\u001b[0m The `run_name` is currently set to the same value as `TrainingArguments.output_dir`. If this was not intended, please specify a different run name by setting the `TrainingArguments.run_name` parameter.\n"
          ]
        },
        {
          "output_type": "stream",
          "name": "stdout",
          "text": [
            "Evaluation Metrics:\n",
            "eval_loss: 0.008999074809253216\n",
            "eval_model_preparation_time: 0.0018\n",
            "eval_F1: 0.3345145287030475\n",
            "eval_seq_accuracy: 0.24172185430463577\n",
            "eval_AP: 0.31030180517800665\n",
            "eval_MCC: 0.3476570999211874\n",
            "eval_AUC: 0.9868648603397809\n",
            "eval_runtime: 7.1467\n",
            "eval_samples_per_second: 126.771\n",
            "eval_steps_per_second: 7.976\n"
          ]
        }
      ]
    }
  ]
}